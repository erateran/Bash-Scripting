{
 "cells": [
  {
   "cell_type": "markdown",
   "metadata": {},
   "source": [
    "# Foundational"
   ]
  },
  {
   "cell_type": "markdown",
   "metadata": {},
   "source": [
    "### Variables"
   ]
  },
  {
   "cell_type": "code",
   "execution_count": null,
   "metadata": {
    "vscode": {
     "languageId": "shellscript"
    }
   },
   "outputs": [],
   "source": [
    "name=\"John\"\n",
    "greeting=\"Hello, $name!\"\n",
    "echo $greeting"
   ]
  },
  {
   "cell_type": "code",
   "execution_count": null,
   "metadata": {
    "vscode": {
     "languageId": "shellscript"
    }
   },
   "outputs": [],
   "source": [
    "name=\"John\"           # Assigning a string value to a variable\n",
    "age=25                # Assigning a numerical value\n",
    "echo \"Name: $name\"    # Accessing variable value using $variable_name\n",
    "echo \"Age: ${age}\"    # Accessing variable value using ${variable_name}"
   ]
  },
  {
   "cell_type": "code",
   "execution_count": null,
   "metadata": {
    "vscode": {
     "languageId": "shellscript"
    }
   },
   "outputs": [],
   "source": [
    "a=5\n",
    "b=3\n",
    "result=$((a + b))  # Performs addition and stores the result in the 'result' variable"
   ]
  },
  {
   "cell_type": "code",
   "execution_count": null,
   "metadata": {
    "vscode": {
     "languageId": "shellscript"
    }
   },
   "outputs": [],
   "source": [
    "age=25\n",
    "incremented_age=$((age + 1))\n",
    "echo \"Next year, you'll be $incremented_age years old.\""
   ]
  },
  {
   "cell_type": "markdown",
   "metadata": {},
   "source": [
    "### Arrays"
   ]
  },
  {
   "cell_type": "code",
   "execution_count": null,
   "metadata": {
    "vscode": {
     "languageId": "shellscript"
    }
   },
   "outputs": [],
   "source": [
    "fruits=(\"Apple\" \"Banana\" \"Orange\" \"Grapes\")\n",
    "echo \"I like ${fruits[0]} and ${fruits[2]}.\""
   ]
  },
  {
   "cell_type": "code",
   "execution_count": null,
   "metadata": {
    "vscode": {
     "languageId": "shellscript"
    }
   },
   "outputs": [],
   "source": [
    "# Creating an array\n",
    "fruits=(\"Apple\" \"Banana\" \"Orange\" \"Grapes\")\n",
    "\n",
    "# Accessing elements\n",
    "echo \"First fruit: ${fruits[0]}\"\n",
    "echo \"All fruits: ${fruits[@]}\"\n",
    "\n",
    "# Adding an element\n",
    "fruits+=(\"Watermelon\")\n",
    "\n",
    "echo ${fruits[@]}"
   ]
  },
  {
   "cell_type": "code",
   "execution_count": null,
   "metadata": {
    "vscode": {
     "languageId": "shellscript"
    }
   },
   "outputs": [],
   "source": [
    "# Creating an associative array\n",
    "declare -A person\n",
    "person[name]=\"John\"\n",
    "person[age]=30\n",
    "person[city]=\"New York\"\n",
    "\n",
    "# Accessing elements\n",
    "echo \"Name: ${person[name]}\"\n",
    "echo \"Age: ${person[age]}\"\n",
    "echo \"City: ${person[city]}\""
   ]
  },
  {
   "cell_type": "code",
   "execution_count": null,
   "metadata": {
    "vscode": {
     "languageId": "shellscript"
    }
   },
   "outputs": [],
   "source": [
    "# Slicing an array\n",
    "numbers=(1 2 3 4 5)\n",
    "slice=(\"${numbers[@]:1:3}\")  # Starting from index 1, take 3 elements\n",
    "echo \"Sliced array: ${slice[@]}\"\n",
    "\n",
    "# Removing an element by index\n",
    "unset 'numbers[2]'\n",
    "echo \"Array after removing element: ${numbers[@]}\""
   ]
  },
  {
   "cell_type": "code",
   "execution_count": null,
   "metadata": {
    "vscode": {
     "languageId": "shellscript"
    }
   },
   "outputs": [],
   "source": [
    "# Merging arrays\n",
    "array1=(a b c)\n",
    "array2=(d e f)\n",
    "merged=(\"${array1[@]}\" \"${array2[@]}\")\n",
    "echo \"Merged array: ${merged[@]}\""
   ]
  },
  {
   "cell_type": "code",
   "execution_count": null,
   "metadata": {
    "vscode": {
     "languageId": "shellscript"
    }
   },
   "outputs": [],
   "source": [
    "# Simulating a 2D array using associative arrays\n",
    "declare -A matrix\n",
    "matrix[0,0]=1\n",
    "matrix[0,1]=2\n",
    "matrix[1,0]=3\n",
    "matrix[1,1]=4\n",
    "\n",
    "# Accessing elements in the simulated 2D array\n",
    "echo \"Element at [0,1]: ${matrix[0,1]}\"\n",
    "echo \"Element at [1,0]: ${matrix[1,0]}\""
   ]
  },
  {
   "cell_type": "markdown",
   "metadata": {},
   "source": [
    "### Variable Declaration"
   ]
  },
  {
   "cell_type": "code",
   "execution_count": null,
   "metadata": {
    "vscode": {
     "languageId": "shellscript"
    }
   },
   "outputs": [],
   "source": [
    "my_var=\"Hello, World!\"  # Declaring and assigning a string value"
   ]
  },
  {
   "cell_type": "code",
   "execution_count": null,
   "metadata": {
    "vscode": {
     "languageId": "shellscript"
    }
   },
   "outputs": [],
   "source": [
    "declare -i my_int=10  # Declaring an integer variable"
   ]
  },
  {
   "cell_type": "code",
   "execution_count": null,
   "metadata": {
    "vscode": {
     "languageId": "shellscript"
    }
   },
   "outputs": [],
   "source": [
    "declare -r my_const=\"This is a constant value\"  # Declaring a read-only variable"
   ]
  },
  {
   "cell_type": "markdown",
   "metadata": {},
   "source": [
    "### Unsetting Variables"
   ]
  },
  {
   "cell_type": "code",
   "execution_count": null,
   "metadata": {
    "vscode": {
     "languageId": "shellscript"
    }
   },
   "outputs": [],
   "source": [
    "my_var=\"some_value\"\n",
    "# ...\n",
    "unset my_var  # Unsetting the variable my_var"
   ]
  },
  {
   "cell_type": "markdown",
   "metadata": {},
   "source": [
    "### User Input"
   ]
  },
  {
   "cell_type": "code",
   "execution_count": null,
   "metadata": {
    "vscode": {
     "languageId": "shellscript"
    }
   },
   "outputs": [],
   "source": [
    "#!/bin/bash\n",
    "\n",
    "echo \"What's your name?\"\n",
    "read name\n",
    "echo \"Hello, $name! Welcome to Bash scripting.\""
   ]
  },
  {
   "cell_type": "code",
   "execution_count": null,
   "metadata": {
    "vscode": {
     "languageId": "shellscript"
    }
   },
   "outputs": [],
   "source": [
    "#!/bin/bash\n",
    "\n",
    "read -p \"Enter your age: \" age\n",
    "echo \"You entered: $age years old.\""
   ]
  },
  {
   "cell_type": "code",
   "execution_count": null,
   "metadata": {
    "vscode": {
     "languageId": "shellscript"
    }
   },
   "outputs": [],
   "source": [
    "read -s -p \"Enter your password: \" password\n",
    "echo \"Password entered.\"\n",
    "# Note: The password is read silently, not displayed on the terminal."
   ]
  },
  {
   "cell_type": "code",
   "execution_count": null,
   "metadata": {
    "vscode": {
     "languageId": "shellscript"
    }
   },
   "outputs": [],
   "source": [
    "if read -t 10 -p \"Enter your answer (10 seconds timeout): \" answer; then\n",
    "    echo \"You entered: $answer\"\n",
    "else\n",
    "    echo \"Timed out. No input received.\"\n",
    "fi"
   ]
  },
  {
   "cell_type": "code",
   "execution_count": null,
   "metadata": {
    "vscode": {
     "languageId": "shellscript"
    }
   },
   "outputs": [],
   "source": [
    "echo \"Enter three fruits separated by spaces:\"\n",
    "read -a fruits\n",
    "echo \"You entered: ${fruits[0]}, ${fruits[1]}, ${fruits[2]}\""
   ]
  },
  {
   "cell_type": "markdown",
   "metadata": {},
   "source": [
    "### CLI Arguments and Special Variables"
   ]
  },
  {
   "cell_type": "code",
   "execution_count": null,
   "metadata": {
    "vscode": {
     "languageId": "shellscript"
    }
   },
   "outputs": [],
   "source": [
    "#!/bin/bash\n",
    "\n",
    "echo \"The first argument is: $1\"\n",
    "echo \"The second argument is: $2\"\n",
    "echo \"All arguments passed: $@\""
   ]
  },
  {
   "cell_type": "code",
   "execution_count": null,
   "metadata": {
    "vscode": {
     "languageId": "shellscript"
    }
   },
   "outputs": [],
   "source": [
    "#!/bin/bash\n",
    "\n",
    "echo \"Number of arguments: $#\"\n",
    "echo \"First Argument: $1\"\n",
    "echo \"All Arguments: $@\""
   ]
  },
  {
   "cell_type": "code",
   "execution_count": null,
   "metadata": {
    "vscode": {
     "languageId": "shellscript"
    }
   },
   "outputs": [],
   "source": [
    "#!/bin/bash\n",
    "\n",
    "while getopts \":a:b:\" opt; do\n",
    "  case $opt in\n",
    "    a) arg_a=\"$OPTARG\"\n",
    "    ;;\n",
    "    b) arg_b=\"$OPTARG\"\n",
    "    ;;\n",
    "    \\?) echo \"Invalid option -$OPTARG\" >&2\n",
    "    ;;\n",
    "  esac\n",
    "done\n",
    "\n",
    "echo \"Argument a: $arg_a\"\n",
    "echo \"Argument b: $arg_b\""
   ]
  },
  {
   "cell_type": "markdown",
   "metadata": {},
   "source": [
    "### Booleans"
   ]
  },
  {
   "cell_type": "code",
   "execution_count": null,
   "metadata": {
    "vscode": {
     "languageId": "shellscript"
    }
   },
   "outputs": [],
   "source": [
    "    Numeric Comparisons:\n",
    "        -eq: Equal to\n",
    "        -ne: Not equal to\n",
    "        -gt: Greater than\n",
    "        -lt: Less than\n",
    "        -ge: Greater than or equal to\n",
    "        -le: Less than or equal to"
   ]
  },
  {
   "cell_type": "code",
   "execution_count": null,
   "metadata": {
    "vscode": {
     "languageId": "shellscript"
    }
   },
   "outputs": [],
   "source": [
    "    String Comparisons:\n",
    "        =: Equal to\n",
    "        !=: Not equal to\n",
    "        <: Less than (in ASCII alphabetical order)\n",
    "        >: Greater than (in ASCII alphabetical order)"
   ]
  },
  {
   "cell_type": "markdown",
   "metadata": {},
   "source": [
    "### Conditinals"
   ]
  },
  {
   "cell_type": "code",
   "execution_count": null,
   "metadata": {
    "vscode": {
     "languageId": "shellscript"
    }
   },
   "outputs": [],
   "source": [
    "if [ condition ]; then\n",
    "    # Code to be executed if the condition is true\n",
    "else\n",
    "    # Code to be executed if the condition is false\n",
    "fi"
   ]
  },
  {
   "cell_type": "code",
   "execution_count": null,
   "metadata": {
    "vscode": {
     "languageId": "shellscript"
    }
   },
   "outputs": [],
   "source": [
    "age=25\n",
    "\n",
    "if [ \"$age\" -ge 18 ]; then\n",
    "    echo \"You are an adult.\"\n",
    "else\n",
    "    echo \"You are not yet an adult.\"\n",
    "fi"
   ]
  },
  {
   "cell_type": "code",
   "execution_count": null,
   "metadata": {
    "vscode": {
     "languageId": "shellscript"
    }
   },
   "outputs": [],
   "source": [
    "age=25; if [ \"$age\" -ge 18 ]; then echo \"You are an adult.\"; else echo \"You are not yet an adult.\"; fi"
   ]
  },
  {
   "cell_type": "code",
   "execution_count": null,
   "metadata": {
    "vscode": {
     "languageId": "shellscript"
    }
   },
   "outputs": [],
   "source": [
    "num1=10\n",
    "num2=20\n",
    "\n",
    "if [ $num1 -eq $num2 ]; then\n",
    "    echo \"Numbers are equal\"\n",
    "fi"
   ]
  },
  {
   "cell_type": "code",
   "execution_count": null,
   "metadata": {
    "vscode": {
     "languageId": "shellscript"
    }
   },
   "outputs": [],
   "source": [
    "str1=\"hello\"\n",
    "str2=\"world\"\n",
    "\n",
    "if [ \"$str1\" = \"$str2\" ]; then\n",
    "    echo \"Strings are equal\"\n",
    "fi"
   ]
  },
  {
   "cell_type": "code",
   "execution_count": null,
   "metadata": {
    "vscode": {
     "languageId": "shellscript"
    }
   },
   "outputs": [],
   "source": [
    "file=\"path/to/file.txt\"\n",
    "\n",
    "if [ -e \"$file\" ]; then\n",
    "    echo \"File exists\"\n",
    "else\n",
    "    echo \"File does not exist\"\n",
    "fi"
   ]
  },
  {
   "cell_type": "code",
   "execution_count": null,
   "metadata": {
    "vscode": {
     "languageId": "shellscript"
    }
   },
   "outputs": [],
   "source": [
    "age=25\n",
    "gender=\"male\"\n",
    "\n",
    "if [ \"$age\" -ge 18 ] && [ \"$gender\" = \"male\" ]; then\n",
    "    echo \"You are an adult male.\"\n",
    "fi"
   ]
  },
  {
   "cell_type": "code",
   "execution_count": null,
   "metadata": {
    "vscode": {
     "languageId": "shellscript"
    }
   },
   "outputs": [],
   "source": [
    "country=\"US\"\n",
    "\n",
    "if [ \"$country\" = \"US\" ] || [ \"$country\" = \"Canada\" ]; then\n",
    "    echo \"You are in North America.\"\n",
    "fi"
   ]
  },
  {
   "cell_type": "code",
   "execution_count": null,
   "metadata": {
    "vscode": {
     "languageId": "shellscript"
    }
   },
   "outputs": [],
   "source": [
    "age=15\n",
    "\n",
    "if ! [ \"$age\" -ge 18 ]; then\n",
    "    echo \"You are not an adult.\"\n",
    "fi"
   ]
  },
  {
   "cell_type": "code",
   "execution_count": null,
   "metadata": {
    "vscode": {
     "languageId": "shellscript"
    }
   },
   "outputs": [],
   "source": [
    "num=5\n",
    "\n",
    "if [ $num -gt 0 ]; then\n",
    "    echo \"Number is positive\"\n",
    "elif [ $num -lt 0 ]; then\n",
    "    echo \"Number is negative\"\n",
    "else\n",
    "    echo \"Number is zero\"\n",
    "fi"
   ]
  },
  {
   "cell_type": "markdown",
   "metadata": {},
   "source": [
    "### Case Statements"
   ]
  },
  {
   "cell_type": "code",
   "execution_count": null,
   "metadata": {
    "vscode": {
     "languageId": "shellscript"
    }
   },
   "outputs": [],
   "source": [
    "case expression in\n",
    "    pattern1)\n",
    "        # code to execute if expression matches pattern1\n",
    "        ;;\n",
    "    pattern2)\n",
    "        # code to execute if expression matches pattern2\n",
    "        ;;\n",
    "    pattern3|pattern4)\n",
    "        # code to execute if expression matches either pattern3 or pattern4\n",
    "        ;;\n",
    "    *)\n",
    "        # default code to execute if no patterns match\n",
    "        ;;\n",
    "esac"
   ]
  },
  {
   "cell_type": "code",
   "execution_count": null,
   "metadata": {
    "vscode": {
     "languageId": "shellscript"
    }
   },
   "outputs": [],
   "source": [
    "#!/bin/bash\n",
    "\n",
    "fruit=\"apple\"\n",
    "\n",
    "case $fruit in\n",
    "    \"apple\")\n",
    "        echo \"It's an apple.\"\n",
    "        ;;\n",
    "    \"banana\")\n",
    "        echo \"It's a banana.\"\n",
    "        ;;\n",
    "    \"orange\" | \"kiwi\")\n",
    "        echo \"It's an orange or a kiwi.\"\n",
    "        ;;\n",
    "    *)\n",
    "        echo \"It's something else.\"\n",
    "        ;;\n",
    "esac"
   ]
  },
  {
   "cell_type": "code",
   "execution_count": null,
   "metadata": {
    "vscode": {
     "languageId": "shellscript"
    }
   },
   "outputs": [],
   "source": [
    "#!/bin/bash\n",
    "\n",
    "file=\"document.docx\"\n",
    "\n",
    "case $file in\n",
    "    *.txt)\n",
    "        echo \"Text file\"\n",
    "        ;;\n",
    "    *.docx | *.doc)\n",
    "        echo \"Word document\"\n",
    "        ;;\n",
    "    *.jpg | *.png)\n",
    "        echo \"Image file\"\n",
    "        ;;\n",
    "    *)\n",
    "        echo \"Unknown file type\"\n",
    "        ;;\n",
    "esac"
   ]
  },
  {
   "cell_type": "code",
   "execution_count": null,
   "metadata": {
    "vscode": {
     "languageId": "shellscript"
    }
   },
   "outputs": [],
   "source": [
    "#!/bin/bash\n",
    "\n",
    "echo \"Enter a grade (A-F):\"\n",
    "read grade\n",
    "\n",
    "case $grade in\n",
    "    [A-C])\n",
    "        echo \"You passed!\"\n",
    "        ;;\n",
    "    [D-F])\n",
    "        echo \"You need to improve.\"\n",
    "        ;;\n",
    "    *)\n",
    "        echo \"Invalid grade.\"\n",
    "        ;;\n",
    "esac"
   ]
  },
  {
   "cell_type": "markdown",
   "metadata": {},
   "source": [
    "### For Loops"
   ]
  },
  {
   "cell_type": "code",
   "execution_count": null,
   "metadata": {
    "vscode": {
     "languageId": "shellscript"
    }
   },
   "outputs": [],
   "source": [
    "for variable in list\n",
    "do\n",
    "    # commands to be executed\n",
    "done"
   ]
  },
  {
   "cell_type": "code",
   "execution_count": null,
   "metadata": {
    "vscode": {
     "languageId": "shellscript"
    }
   },
   "outputs": [],
   "source": [
    "# Print numbers from 1 to 5\n",
    "for i in {1..5}\n",
    "do\n",
    "    echo $i\n",
    "done"
   ]
  },
  {
   "cell_type": "code",
   "execution_count": null,
   "metadata": {
    "vscode": {
     "languageId": "shellscript"
    }
   },
   "outputs": [],
   "source": [
    "for i in {1..5}; do echo $i; done"
   ]
  },
  {
   "cell_type": "code",
   "execution_count": null,
   "metadata": {
    "vscode": {
     "languageId": "shellscript"
    }
   },
   "outputs": [],
   "source": [
    "# Loop through an array of names\n",
    "names=(\"Alice\" \"Bob\" \"Charlie\" \"Diana\")\n",
    "\n",
    "for name in \"${names[@]}\"\n",
    "do\n",
    "    echo \"Hello, $name!\"\n",
    "done"
   ]
  },
  {
   "cell_type": "code",
   "execution_count": null,
   "metadata": {
    "vscode": {
     "languageId": "shellscript"
    }
   },
   "outputs": [],
   "source": [
    "# Loop through a custom list of items\n",
    "for fruit in Apple Orange Banana Mango\n",
    "do\n",
    "    echo \"Found a $fruit\"\n",
    "done"
   ]
  },
  {
   "cell_type": "code",
   "execution_count": null,
   "metadata": {
    "vscode": {
     "languageId": "shellscript"
    }
   },
   "outputs": [],
   "source": [
    "# Generate a sequence of numbers\n",
    "for num in {1..10}\n",
    "do\n",
    "    echo -n \"$num \"  # Prints numbers 1 to 10 in a line\n",
    "done\n",
    "\n",
    "echo  # Print a new line after the loop completes"
   ]
  },
  {
   "cell_type": "code",
   "execution_count": null,
   "metadata": {
    "vscode": {
     "languageId": "shellscript"
    }
   },
   "outputs": [],
   "source": [
    "# Loop through files in the current directory\n",
    "for file in *\n",
    "do\n",
    "    echo \"Processing file: $file\"\n",
    "    # Add commands to process each file\n",
    "done"
   ]
  },
  {
   "cell_type": "code",
   "execution_count": null,
   "metadata": {
    "vscode": {
     "languageId": "shellscript"
    }
   },
   "outputs": [],
   "source": [
    "# Example of looping through files in a directory\n",
    "for file in /path/to/directory/*\n",
    "do\n",
    "    echo \"Processing file: $file\"\n",
    "    # Add commands to process each file\n",
    "done"
   ]
  },
  {
   "cell_type": "code",
   "execution_count": null,
   "metadata": {
    "vscode": {
     "languageId": "shellscript"
    }
   },
   "outputs": [],
   "source": [
    "# Example of nested loops\n",
    "for i in {1..3}\n",
    "do\n",
    "    echo \"Outer loop iteration: $i\"\n",
    "    for j in A B C\n",
    "    do\n",
    "        echo \"Inner loop iteration: $j\"\n",
    "    done\n",
    "done"
   ]
  },
  {
   "cell_type": "code",
   "execution_count": null,
   "metadata": {
    "vscode": {
     "languageId": "shellscript"
    }
   },
   "outputs": [],
   "source": [
    "# Example using break and continue\n",
    "for i in {1..5}\n",
    "do\n",
    "    if [ $i -eq 3 ]\n",
    "    then\n",
    "        continue  # Skips iteration for i=3\n",
    "    fi\n",
    "    \n",
    "    if [ $i -eq 4 ]\n",
    "    then\n",
    "        break  # Exits the loop when i=4\n",
    "    fi\n",
    "    \n",
    "    echo $i\n",
    "done"
   ]
  },
  {
   "cell_type": "markdown",
   "metadata": {},
   "source": [
    "### While Loops"
   ]
  },
  {
   "cell_type": "code",
   "execution_count": null,
   "metadata": {
    "vscode": {
     "languageId": "shellscript"
    }
   },
   "outputs": [],
   "source": [
    "while [ condition ]\n",
    "do\n",
    "    # commands to be executed\n",
    "done"
   ]
  },
  {
   "cell_type": "code",
   "execution_count": null,
   "metadata": {
    "vscode": {
     "languageId": "shellscript"
    }
   },
   "outputs": [],
   "source": [
    "# Count from 1 to 5 using a while loop\n",
    "count=1\n",
    "while [ $count -le 5 ]\n",
    "do\n",
    "    echo $count\n",
    "    ((count++))\n",
    "done"
   ]
  },
  {
   "cell_type": "code",
   "execution_count": null,
   "metadata": {
    "vscode": {
     "languageId": "shellscript"
    }
   },
   "outputs": [],
   "source": [
    "# Basic while loop to read user input until 'quit' is entered\n",
    "input=\"\"\n",
    "while [ \"$input\" != \"quit\" ]\n",
    "do\n",
    "    echo \"Enter 'quit' to exit: \"\n",
    "    read input\n",
    "    echo \"You entered: $input\"\n",
    "done"
   ]
  },
  {
   "cell_type": "code",
   "execution_count": null,
   "metadata": {
    "vscode": {
     "languageId": "shellscript"
    }
   },
   "outputs": [],
   "source": [
    "input=\"\"; while [ \"$input\" != \"quit\" ]; do echo \"Enter 'quit' to exit: \"; read input; echo \"You entered: $input\"; done\n"
   ]
  },
  {
   "cell_type": "code",
   "execution_count": null,
   "metadata": {
    "vscode": {
     "languageId": "shellscript"
    }
   },
   "outputs": [],
   "source": [
    "# Advanced while loop to read lines from a file\n",
    "filename=\"sample.txt\"\n",
    "while IFS= read -r line || [[ -n \"$line\" ]]\n",
    "do\n",
    "    echo \"Line: $line\"\n",
    "    # Process each line here\n",
    "done < \"$filename\""
   ]
  },
  {
   "cell_type": "code",
   "execution_count": null,
   "metadata": {
    "vscode": {
     "languageId": "shellscript"
    }
   },
   "outputs": [],
   "source": [
    "# Advanced while loop to process command output\n",
    "while IFS= read -r process\n",
    "do\n",
    "    echo \"Process: $process\"\n",
    "    # Process each line of command output here\n",
    "done < <(ps aux)"
   ]
  },
  {
   "cell_type": "code",
   "execution_count": null,
   "metadata": {
    "vscode": {
     "languageId": "shellscript"
    }
   },
   "outputs": [],
   "source": [
    "# Advanced while loop to wait for a condition (e.g., process to start)\n",
    "while ! pgrep \"my_process\" > /dev/null\n",
    "do\n",
    "    echo \"Waiting for 'my_process' to start...\"\n",
    "    sleep 1\n",
    "done\n",
    "echo \"'my_process' has started.\""
   ]
  },
  {
   "cell_type": "markdown",
   "metadata": {},
   "source": [
    "### Functions"
   ]
  },
  {
   "cell_type": "code",
   "execution_count": null,
   "metadata": {
    "vscode": {
     "languageId": "shellscript"
    }
   },
   "outputs": [],
   "source": [
    "function_name() {\n",
    "    # Commands and code for the function\n",
    "    # You can use parameters passed to the function ($1, $2, etc.)\n",
    "    # Access them like regular variables within the function\n",
    "    # Example: echo \"First parameter: $1\"\n",
    "    \n",
    "    # Return a value (optional)\n",
    "    # Use the 'return' keyword, although Bash only supports numeric return values\n",
    "    # Example: return 0\n",
    "    # (0 typically means success, other numbers for various errors or statuses)\n",
    "    \n",
    "    # You can also directly echo/print the output and capture it when calling the function\n",
    "}"
   ]
  },
  {
   "cell_type": "code",
   "execution_count": null,
   "metadata": {
    "vscode": {
     "languageId": "shellscript"
    }
   },
   "outputs": [],
   "source": [
    "# Define a simple function\n",
    "my_function() {\n",
    "    echo \"Hello from my_function!\"\n",
    "}\n",
    "\n",
    "# Call the function\n",
    "my_function"
   ]
  },
  {
   "cell_type": "code",
   "execution_count": null,
   "metadata": {
    "vscode": {
     "languageId": "shellscript"
    }
   },
   "outputs": [],
   "source": [
    "greet() {\n",
    "    echo \"Hello, $1!\"\n",
    "}\n",
    "\n",
    "greet \"Alice\"  # Outputs: Hello, Alice!"
   ]
  },
  {
   "cell_type": "code",
   "execution_count": null,
   "metadata": {
    "vscode": {
     "languageId": "shellscript"
    }
   },
   "outputs": [],
   "source": [
    "greet() { echo \"Hello, $1!\"; }; greet \"Alice\""
   ]
  },
  {
   "cell_type": "code",
   "execution_count": null,
   "metadata": {
    "vscode": {
     "languageId": "shellscript"
    }
   },
   "outputs": [],
   "source": [
    "calculate() {\n",
    "    result=$(( $1 + $2 ))\n",
    "    return $result\n",
    "}\n",
    "\n",
    "calculate 5 3\n",
    "echo \"The result is: $?\"  # Outputs: The result is: 8"
   ]
  },
  {
   "cell_type": "code",
   "execution_count": null,
   "metadata": {
    "vscode": {
     "languageId": "shellscript"
    }
   },
   "outputs": [],
   "source": [
    "calculate() { local result=$(( $1 + $2 )); echo \"The result is: $result\"; }; calculate 5 3"
   ]
  },
  {
   "cell_type": "code",
   "execution_count": null,
   "metadata": {
    "vscode": {
     "languageId": "shellscript"
    }
   },
   "outputs": [],
   "source": [
    "global_var=\"I'm a global variable\"\n",
    "\n",
    "my_function() {\n",
    "    local local_var=\"I'm a local variable\"\n",
    "    echo \"Inside function: $local_var\"\n",
    "    echo \"Inside function accessing global variable: $global_var\"\n",
    "}\n",
    "\n",
    "my_function\n",
    "echo \"Outside function accessing global variable: $global_var\"\n",
    "# echo \"Outside function accessing local variable: $local_var\"  # This will throw an error as local_var is not accessible outside the function."
   ]
  },
  {
   "cell_type": "markdown",
   "metadata": {},
   "source": [
    "# Advanced Topics"
   ]
  },
  {
   "cell_type": "markdown",
   "metadata": {},
   "source": [
    "### Command Types"
   ]
  },
  {
   "cell_type": "code",
   "execution_count": null,
   "metadata": {
    "vscode": {
     "languageId": "shellscript"
    }
   },
   "outputs": [],
   "source": [
    ": '\n",
    "Alias\n",
    "Function\n",
    "Shell built in\n",
    "Keyword\n",
    "File\n",
    "'"
   ]
  },
  {
   "cell_type": "code",
   "execution_count": null,
   "metadata": {
    "vscode": {
     "languageId": "shellscript"
    }
   },
   "outputs": [],
   "source": [
    "type ls\n",
    "type -a ls\n",
    "type -t ls\n",
    "alias ls\n",
    "\n",
    "type ll\n",
    "\n",
    "type grep\n",
    "\n",
    "type ls precmd pwd do id"
   ]
  },
  {
   "cell_type": "code",
   "execution_count": null,
   "metadata": {
    "vscode": {
     "languageId": "shellscript"
    }
   },
   "outputs": [],
   "source": [
    "alias greet='echo \"Hello, $USER!\"' # In the .zshrc file"
   ]
  },
  {
   "cell_type": "code",
   "execution_count": null,
   "metadata": {
    "vscode": {
     "languageId": "shellscript"
    }
   },
   "outputs": [],
   "source": [
    "# In the .zshrc file\n",
    "function greet() {\n",
    "    echo \"Hello, $1!\"\n",
    "}"
   ]
  },
  {
   "cell_type": "code",
   "execution_count": null,
   "metadata": {
    "vscode": {
     "languageId": "shellscript"
    }
   },
   "outputs": [],
   "source": [
    "hello() { echo \"this is a test\"; } # In the cli"
   ]
  },
  {
   "cell_type": "code",
   "execution_count": null,
   "metadata": {
    "vscode": {
     "languageId": "shellscript"
    }
   },
   "outputs": [],
   "source": [
    "type cd echo pwd type unset aliad builtin"
   ]
  },
  {
   "cell_type": "code",
   "execution_count": null,
   "metadata": {
    "vscode": {
     "languageId": "shellscript"
    }
   },
   "outputs": [],
   "source": [
    "type if else function export fi case esac "
   ]
  },
  {
   "cell_type": "markdown",
   "metadata": {},
   "source": [
    "### Command Path and Environment Variables"
   ]
  },
  {
   "cell_type": "code",
   "execution_count": null,
   "metadata": {
    "vscode": {
     "languageId": "shellscript"
    }
   },
   "outputs": [],
   "source": [
    "which python3"
   ]
  },
  {
   "cell_type": "code",
   "execution_count": null,
   "metadata": {
    "vscode": {
     "languageId": "shellscript"
    }
   },
   "outputs": [],
   "source": [
    "export PATH=$PATH:/your/new/directory"
   ]
  },
  {
   "cell_type": "code",
   "execution_count": null,
   "metadata": {
    "vscode": {
     "languageId": "shellscript"
    }
   },
   "outputs": [],
   "source": [
    "export PATH=$(echo $PATH | sed -e 's/:\\/directory\\/to\\/remove//')"
   ]
  },
  {
   "cell_type": "code",
   "execution_count": null,
   "metadata": {
    "vscode": {
     "languageId": "shellscript"
    }
   },
   "outputs": [],
   "source": [
    "my_variable=\"Hello\"\n",
    "export my_variable\n",
    "printenv\n",
    "unset my_variable"
   ]
  },
  {
   "cell_type": "code",
   "execution_count": null,
   "metadata": {
    "vscode": {
     "languageId": "shellscript"
    }
   },
   "outputs": [],
   "source": [
    "#!/bin/bash\n",
    "\n",
    "echo \"Message from print_message.sh: $my_message\""
   ]
  },
  {
   "cell_type": "code",
   "execution_count": null,
   "metadata": {
    "vscode": {
     "languageId": "shellscript"
    }
   },
   "outputs": [],
   "source": [
    "my_message=\"This is a message for the subprocess\"\n",
    "export my_message\n",
    "./print_message.sh"
   ]
  },
  {
   "cell_type": "code",
   "execution_count": null,
   "metadata": {
    "vscode": {
     "languageId": "shellscript"
    }
   },
   "outputs": [],
   "source": [
    "echo $HOME\n",
    "echo $USER"
   ]
  },
  {
   "cell_type": "code",
   "execution_count": null,
   "metadata": {
    "vscode": {
     "languageId": "shellscript"
    }
   },
   "outputs": [],
   "source": [
    "# Permanent unset: To remove a variable permanently, remove it from shell configuration files like .bashrc, .bash_profile, or .profile"
   ]
  },
  {
   "cell_type": "markdown",
   "metadata": {},
   "source": [
    "### Error Handling"
   ]
  },
  {
   "cell_type": "code",
   "execution_count": null,
   "metadata": {
    "vscode": {
     "languageId": "shellscript"
    }
   },
   "outputs": [],
   "source": [
    ": '\n",
    "    0: Successful execution without any errors.\n",
    "    1: General error. This is often used for unspecified errors.\n",
    "    2: Misuse of shell built-ins (for example, incorrect usage of command options).\n",
    "    126: Command found but is not executable.\n",
    "    127: Command not found.\n",
    "    128 + n: Fatal error signal \"n\" (e.g., 128 + 9 for SIGKILL).\n",
    "    130: Script terminated by Ctrl+C.\n",
    "    255: Exit status out of range or error in exit code.\n",
    "    '"
   ]
  },
  {
   "cell_type": "code",
   "execution_count": null,
   "metadata": {
    "vscode": {
     "languageId": "shellscript"
    }
   },
   "outputs": [],
   "source": [
    ": '\n",
    "    Successful Commands:\n",
    "        ls /home (0): Lists the contents of the /home directory.\n",
    "        echo \"Hello\" (0): Prints \"Hello\" to the console.\n",
    "\n",
    "    Commands with Specific Errors:\n",
    "        cat non-existent-file (1): Fails to open/read a non-existent file.\n",
    "        chmod 000 file (1): Unable to change file permissions.\n",
    "        grep 'pattern' non-existent-file (1): Fails to find a pattern in a non-existent file.\n",
    "\n",
    "    Command Not Found:\n",
    "        unknown_command (127): Command not found in PATH.\n",
    "\n",
    "    Script Terminated by Ctrl+C:\n",
    "        Exiting a running script with Ctrl+C (130).\n",
    "\n",
    "    Fatal Errors:\n",
    "        Segmentation fault (e.g., a buggy C program) might return 139 (128 + 11).\n",
    "        SIGKILL (e.g., forcefully terminated process) returns 137 (128 + 9).\n",
    "\n",
    "    Exit Status Out of Range:\n",
    "        Returning a value beyond 255: 300, 400, etc. (interpreted modulo 256).\n",
    "        '"
   ]
  },
  {
   "cell_type": "code",
   "execution_count": null,
   "metadata": {
    "vscode": {
     "languageId": "shellscript"
    }
   },
   "outputs": [],
   "source": [
    "#!/bin/bash\n",
    "\n",
    "ls /non-existent-directory\n",
    "if [ $? -ne 0 ]; then\n",
    "    echo \"Error: ls command failed\"\n",
    "    exit 1\n",
    "fi\n",
    "\n",
    "echo \"ls command executed successfully\"\n",
    "# Continue script execution..."
   ]
  },
  {
   "cell_type": "code",
   "execution_count": null,
   "metadata": {
    "vscode": {
     "languageId": "shellscript"
    }
   },
   "outputs": [],
   "source": [
    "#!/bin/bash\n",
    "\n",
    "echo \"This is a successful command execution\"\n",
    "if [ $? -eq 0 ]; then\n",
    "    echo \"Command executed successfully\"\n",
    "    # exit 0\n",
    "else\n",
    "    echo \"Command failed\"\n",
    "fi"
   ]
  },
  {
   "cell_type": "code",
   "execution_count": null,
   "metadata": {
    "vscode": {
     "languageId": "shellscript"
    }
   },
   "outputs": [],
   "source": [
    "#!/bin/bash\n",
    "\n",
    "directory_name=\"new_directory\"\n",
    "\n",
    "if ! mkdir \"$directory_name\"; then\n",
    "    echo \"Directory creation failed\"\n",
    "    exit 1\n",
    "fi\n",
    "\n",
    "echo \"Directory '$directory_name' created successfully\"\n",
    "# Continue script execution..."
   ]
  },
  {
   "cell_type": "code",
   "execution_count": null,
   "metadata": {
    "vscode": {
     "languageId": "shellscript"
    }
   },
   "outputs": [],
   "source": [
    "#!/bin/bash\n",
    "\n",
    "set -e\n",
    "\n",
    "rm non-existent-file  # This command will fail\n",
    "\n",
    "echo \"This line will not be printed\""
   ]
  },
  {
   "cell_type": "markdown",
   "metadata": {},
   "source": [
    "### Signals and Traps"
   ]
  },
  {
   "cell_type": "code",
   "execution_count": null,
   "metadata": {
    "vscode": {
     "languageId": "shellscript"
    }
   },
   "outputs": [],
   "source": [
    "trap 'command' SIGNALS"
   ]
  },
  {
   "cell_type": "code",
   "execution_count": null,
   "metadata": {
    "vscode": {
     "languageId": "shellscript"
    }
   },
   "outputs": [],
   "source": [
    "#!/bin/bash\n",
    "\n",
    "cleanup() {\n",
    "    echo \"Performing cleanup...\"\n",
    "    # Add your cleanup commands here\n",
    "    exit 1  # Exit the script after cleanup\n",
    "}\n",
    "\n",
    "trap 'cleanup' SIGINT\n",
    "\n",
    "echo \"Script is running. Press Ctrl+C to interrupt...\"\n",
    "\n",
    "# Your script logic goes here\n",
    "# ...\n",
    "\n",
    "# Simulate a long-running process\n",
    "sleep 10\n",
    "\n",
    "echo \"Script completed.\""
   ]
  },
  {
   "cell_type": "code",
   "execution_count": null,
   "metadata": {
    "vscode": {
     "languageId": "shellscript"
    }
   },
   "outputs": [],
   "source": [
    "#!/bin/bash\n",
    "\n",
    "cleanup() {\n",
    "    echo \"Received termination signal. Cleaning up...\"\n",
    "    # Add cleanup commands here\n",
    "    exit 0\n",
    "}\n",
    "\n",
    "# Trap SIGTERM signal\n",
    "trap 'cleanup' SIGTERM\n",
    "\n",
    "echo \"Running. PID: $$\"\n",
    "\n",
    "# Simulate a long-running process\n",
    "while true; do\n",
    "    sleep 1\n",
    "done"
   ]
  },
  {
   "cell_type": "code",
   "execution_count": null,
   "metadata": {
    "vscode": {
     "languageId": "shellscript"
    }
   },
   "outputs": [],
   "source": [
    "#!/bin/bash\n",
    "\n",
    "trap '' SIGINT SIGTERM  # Ignore SIGINT and SIGTERM signals\n",
    "\n",
    "echo \"Running. PID: $$\"\n",
    "\n",
    "# Simulate a long-running process\n",
    "while true; do\n",
    "    sleep 1\n",
    "done"
   ]
  },
  {
   "cell_type": "markdown",
   "metadata": {},
   "source": [
    "### Debugging"
   ]
  },
  {
   "cell_type": "code",
   "execution_count": null,
   "metadata": {
    "vscode": {
     "languageId": "shellscript"
    }
   },
   "outputs": [],
   "source": [
    "#!/bin/bash\n",
    "\n",
    "set -e\n",
    "set -o verbose\n",
    "\n",
    "var=10\n",
    "result=$((var * 2))\n",
    "\n",
    "echo \"Result: $result\""
   ]
  },
  {
   "cell_type": "code",
   "execution_count": null,
   "metadata": {
    "vscode": {
     "languageId": "shellscript"
    }
   },
   "outputs": [],
   "source": [
    "#!/bin/bash\n",
    "\n",
    "var=10\n",
    "result=$((var * 2))\n",
    "\n",
    "set -x  # Enable debugging\n",
    "ls /path/to/nonexistent/directory\n",
    "set +x  # Disable debugging for the rest of the script\n",
    "\n",
    "echo \"This won't be executed due to the error above\"\n",
    "\n",
    "set -v  # Enable verbose mode\n",
    "echo \"Script finished\"\n",
    "set +v  # Disable verbose mode for the rest of the script"
   ]
  },
  {
   "cell_type": "code",
   "execution_count": null,
   "metadata": {
    "vscode": {
     "languageId": "shellscript"
    }
   },
   "outputs": [],
   "source": [
    "#!/bin/bash -x\n",
    "\n",
    "# Enable debugging from the beginning of the script\n",
    "\n",
    "var=10\n",
    "\n",
    "echo \"The value of var is: $var\"\n",
    "\n",
    "result=$((var * 2))\n",
    "\n",
    "echo \"The result is: $result\"\n",
    "\n",
    "# Intentional error to demonstrate debug mode\n",
    "ls /path/to/nonexistent/directory\n",
    "\n",
    "echo \"This won't be executed due to the error above\""
   ]
  }
 ],
 "metadata": {
  "kernelspec": {
   "display_name": "Python 3",
   "language": "python",
   "name": "python3"
  },
  "language_info": {
   "codemirror_mode": {
    "name": "ipython",
    "version": 3
   },
   "file_extension": ".py",
   "mimetype": "text/x-python",
   "name": "python",
   "nbconvert_exporter": "python",
   "pygments_lexer": "ipython3",
   "version": "3.11.6"
  }
 },
 "nbformat": 4,
 "nbformat_minor": 2
}
